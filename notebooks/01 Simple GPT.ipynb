{
 "cells": [
  {
   "cell_type": "markdown",
   "metadata": {},
   "source": [
    "### This is a simple example to show how to connect to Azure OpenAI API deployment and perform API calls"
   ]
  },
  {
   "cell_type": "code",
   "execution_count": 1,
   "metadata": {},
   "outputs": [],
   "source": [
    "#replace with your own values\n",
    "openai_api_base=\"...\"\n",
    "openai_api_key=\"...\""
   ]
  },
  {
   "cell_type": "code",
   "execution_count": 11,
   "metadata": {},
   "outputs": [
    {
     "name": "stdout",
     "output_type": "stream",
     "text": [
      "{\n",
      "  \"choices\": [\n",
      "    {\n",
      "      \"finish_reason\": \"stop\",\n",
      "      \"index\": 0,\n",
      "      \"logprobs\": null,\n",
      "      \"text\": \"\\n\\nThe currency of Zambia is the Zambian Kwacha (ZMW).\"\n",
      "    }\n",
      "  ],\n",
      "  \"created\": 1691838252,\n",
      "  \"id\": \"cmpl-7mghghG56tm5gW2jYv57itKN3aFbc\",\n",
      "  \"model\": \"text-davinci-003\",\n",
      "  \"object\": \"text_completion\",\n",
      "  \"usage\": {\n",
      "    \"completion_tokens\": 17,\n",
      "    \"prompt_tokens\": 8,\n",
      "    \"total_tokens\": 25\n",
      "  }\n",
      "}\n",
      "\n",
      "\n",
      "The currency of Zambia is the Zambian Kwacha (ZMW).\n"
     ]
    }
   ],
   "source": [
    "# Connect to Azure OpenAI API\n",
    "\n",
    "import openai\n",
    "openai.api_type = \"azure\"\n",
    "openai.api_base = openai_api_base\n",
    "openai.api_key = openai_api_key\n",
    "openai.api_version = \"2022-12-01\"\n",
    "\n",
    "prompt = \"What is the currency of Zambia?\"\n",
    "response = openai.Completion.create(\n",
    "  engine=\"text-davinci-003\",\n",
    "  prompt=prompt,\n",
    "  temperature=1,\n",
    "  max_tokens=100)\n",
    "\n",
    "print (response)\n",
    "\n",
    "print (response.choices[0].text)\n"
   ]
  }
 ],
 "metadata": {
  "kernelspec": {
   "display_name": "Python 3",
   "language": "python",
   "name": "python3"
  },
  "language_info": {
   "codemirror_mode": {
    "name": "ipython",
    "version": 3
   },
   "file_extension": ".py",
   "mimetype": "text/x-python",
   "name": "python",
   "nbconvert_exporter": "python",
   "pygments_lexer": "ipython3",
   "version": "3.11.3"
  },
  "orig_nbformat": 4
 },
 "nbformat": 4,
 "nbformat_minor": 2
}
